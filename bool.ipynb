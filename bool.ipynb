{
 "cells": [
  {
   "cell_type": "code",
   "execution_count": 2,
   "metadata": {},
   "outputs": [
    {
     "name": "stdout",
     "output_type": "stream",
     "text": [
      "Ile kosztuję kilogram jabłek? 5\n",
      "Ile kosztuję kilogram bananów? 8\n",
      "Ile kosztuję kilogram truskawek? 12\n",
      "kilogram jabłek kosztuję tyle samo co bananów False\n",
      "Czy kilogram truskawek jest droższy niż kilogram bananów? True\n",
      " Czy cena za kilogram truskawek różni się od ceny za kiogram jabłek? True\n"
     ]
    }
   ],
   "source": [
    "#Zapytaj użytkownika o ceny trzech produktów i wypisz wyniki ich porównania.\n",
    "\n",
    "jabłka = float(input(\"Ile kosztuję kilogram jabłek? \"))\n",
    "banany = float(input(\"Ile kosztuję kilogram bananów? \"))\n",
    "truskawki = float(input(\"Ile kosztuję kilogram truskawek? \"))\n",
    "\n",
    "print(f\"kilogram jabłek kosztuję tyle samo co bananów {jabłka == banany}\")\n",
    "print(f\"Czy kilogram truskawek jest droższy niż kilogram bananów? {truskawki > banany}\")\n",
    "print(f\" Czy cena za kilogram truskawek różni się od ceny za kiogram jabłek? {truskawki != jabłka}\")"
   ]
  },
  {
   "cell_type": "code",
   "execution_count": 7,
   "metadata": {},
   "outputs": [
    {
     "name": "stdout",
     "output_type": "stream",
     "text": [
      "Podaj listę zakupów (rozdzielając produkty przecinkiem\tjajka,chleb,woda,cukier,woda,chleb\n",
      "Czy lista zakupów jest długa? \tTrue\n"
     ]
    }
   ],
   "source": [
    "#Poproś użytkownika o wprowadzenie listy zakupów, rozdzielając poszczególne elementy przecinkiem.\n",
    "#Następnie powiedz (wypisz), czy jest to według Ciebie długa lista, czy też nie.\n",
    "\n",
    "lista = input(\"Podaj listę zakupów (rozdzielając produkty przecinkiem\\t\")\n",
    "lista_zakupów = lista.split(\",\")\n",
    "\n",
    "czy_długa = len(lista_zakupów) > 4\n",
    "\n",
    "print(f\"Czy lista zakupów jest długa? \\t{czy_długa}\")"
   ]
  },
  {
   "cell_type": "code",
   "execution_count": 13,
   "metadata": {},
   "outputs": [
    {
     "name": "stdout",
     "output_type": "stream",
     "text": [
      "Wyliczę Ci końcową wartość lokaty.\n",
      "Podaj początkową wartość lokaty: 5000\n",
      "Podaj ile wynosi oprocentowanie: 4\n",
      "Czas trwania lokaty w latach to: 10\n",
      "Po 10 latach, wartość końcowa lokaty to: 7401.22 zł.\n",
      "Czy w planowanym okresie, łączna wartość inwestycji wzrośnie o co najmniej 10%? True\n"
     ]
    }
   ],
   "source": [
    "#Zmodyfikuj program obliczający wartość lokaty, tak aby dodatkowo wypisywał informacje, czy w planowanym okresie\n",
    "#łączna wartość inwestycji wzrośnie o co najmniej 10%.\n",
    "\n",
    "\n",
    "#Wzór to: wartość = wartość pocz. * (1 + procent / 100) ^ liczba lat\n",
    "\n",
    "print(\"Wyliczę Ci końcową wartość lokaty.\")\n",
    "poczatkowa_wartosc_input = input(\"Podaj początkową wartość lokaty: \")\n",
    "poczatkowa_wartosc = int(poczatkowa_wartosc_input)\n",
    "\n",
    "oprocentowanie_input = input(\"Podaj ile wynosi oprocentowanie: \")\n",
    "oprocentowanie = int(oprocentowanie_input)\n",
    "\n",
    "czas_input = input(\"Czas trwania lokaty w latach to: \")\n",
    "czas = int(czas_input)\n",
    "\n",
    "wartosc_koncowa = poczatkowa_wartosc * (1 + oprocentowanie / 100) ** czas\n",
    "\n",
    "wzrost = wartosc_koncowa - poczatkowa_wartosc\n",
    "\n",
    "wzrost_procent = (wzrost / poczatkowa_wartosc) * 100\n",
    "\n",
    "print(\"Po {} latach, wartość końcowa lokaty to: {:.2f} zł.\".format(czas, wartosc_koncowa))\n",
    "print(f\"Czy w planowanym okresie, łączna wartość inwestycji wzrośnie o co najmniej 10%? {wzrost_procent >= 10}\")"
   ]
  },
  {
   "cell_type": "code",
   "execution_count": null,
   "metadata": {},
   "outputs": [],
   "source": []
  }
 ],
 "metadata": {
  "kernelspec": {
   "display_name": "Python 3",
   "language": "python",
   "name": "python3"
  },
  "language_info": {
   "codemirror_mode": {
    "name": "ipython",
    "version": 3
   },
   "file_extension": ".py",
   "mimetype": "text/x-python",
   "name": "python",
   "nbconvert_exporter": "python",
   "pygments_lexer": "ipython3",
   "version": "3.8.5"
  }
 },
 "nbformat": 4,
 "nbformat_minor": 4
}
