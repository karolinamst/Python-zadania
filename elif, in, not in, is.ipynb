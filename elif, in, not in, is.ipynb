{
 "cells": [
  {
   "cell_type": "code",
   "execution_count": null,
   "metadata": {},
   "outputs": [],
   "source": [
    "#Napisz uproszczony kalkulator kredytowy.\n",
    "\n",
    "Celem kalkulatora jest sprawdzenie czy użytkownika stać na kredyt hipoteczny o podanych parametrach.\n",
    "\n",
    "Zapytaj użytkownika o:\n",
    "\n",
    "kwotę kredytu\n",
    "oprocentowanie kredytu\n",
    "wartość wkładu własnego\n",
    "czas kredytowania w latach\n",
    "przychód miesięczny\n",
    "sumę miesięcznych wydatków\n",
    " \n",
    "Oblicz ratę ze wzoru:\n",
    "(kwota kredytu * oprocentowanie / 100) / 12 + kwota kredytu / (liczba lat * 12)\n",
    "\n",
    "Oblicz dostępne środki jako:\n",
    "przychód - suma wydatków\n",
    "\n",
    "Oblicz wartość nieruchomości jako:\n",
    "wkład własny + kwota kredytu\n",
    "\n",
    "#zasady:\n",
    "# 1. Jeżeli wartość wkładu własny to powyżej 20% wartości nieruchomości\n",
    "# to dostępne środki muszą być wyższe od raty o min 1000 PLN\n",
    "# 2. Jeżeli wkład własny to od 10% do 20% to dostępne śordki muszą być wyższe \n",
    "# od raty o minimum 2000 PLN.\n",
    "# 3. Jeżeli wkład własny jest niższy niż 10% to nie można wziąć kredytu."
   ]
  },
  {
   "cell_type": "code",
   "execution_count": 36,
   "metadata": {},
   "outputs": [
    {
     "name": "stdout",
     "output_type": "stream",
     "text": [
      "Na jaką kwotę chciałbyś wziąć kredyt hipoteczny? 80000\n",
      "Podaj oprocentowanie kredytu:5\n",
      "Podaj kwotę wkładu własnego:30000\n",
      "Na ile lat chcesz wziąć kredyt? (lata)30\n",
      "Podaj przychód miesięczny10000\n",
      "Jaka jest suma Twoich miesięcznych wydatków?5000\n",
      "Można wziąć kredyt\n"
     ]
    }
   ],
   "source": [
    "kwota_kredytu = int(input(\"Na jaką kwotę chciałbyś wziąć kredyt hipoteczny? \"))\n",
    "oprocentowanie = float(input(\"Podaj oprocentowanie kredytu: \"))\n",
    "wartość_wkładu_własnego = int(input(\"Podaj kwotę wkładu własnego: \"))\n",
    "liczba_lat = int(input(\"Na ile lat chcesz wziąć kredyt? (lata) \"))\n",
    "przychód_miesięczny = int(input(\"Podaj przychód miesięczny \"))\n",
    "suma_miesięcznych_wydatków = int(input(\"Jaka jest suma Twoich miesięcznych wydatków? \"))\n",
    "\n",
    "rata_kredytu = (kwota_kredytu * oprocentowanie / 100) / 12 + kwota_kredytu / (liczba_lat * 12)\n",
    "dostępne_środki = przychód_miesięczny - suma_miesięcznych_wydatków\n",
    "wartość_nieruchomości = wartość_wkładu_własnego + kwota_kredytu\n",
    "\n",
    "#wersja 1\n",
    "wkład_własny = wartość_wkładu_własnego / wartość_nieruchomości\n",
    "dostępne_środki_raty = dostępne_środki - rata_kredytu \n",
    "\n",
    "maksimum = wkład_własny >= 0.2 and dostępne_środki_raty >= 1000\n",
    "minimum = wkład_własny >= 0.1 and dostępne_środki_raty >= 2000\n",
    "\n",
    "if maksimum or minimum:\n",
    "    print(\"Można wziąć kredyt\")\n",
    "else:\n",
    "    print(\"Nie można wziąć kredytu\")"
   ]
  },
  {
   "cell_type": "code",
   "execution_count": 37,
   "metadata": {},
   "outputs": [
    {
     "name": "stdout",
     "output_type": "stream",
     "text": [
      "Można wziąć kredyt\n"
     ]
    }
   ],
   "source": [
    "#wersja 2 \n",
    "if wkład_własny >= 0.2 and dostępne_środki_raty >= 1000:\n",
    "    print(\"Można wziąć kredyt\")\n",
    "if 0.1 <= wkład_własny < 0.2 and dostępne_środki_raty >= 2000:\n",
    "    print(\"Mozna wziąć kredyt\")\n",
    "else:\n",
    "    print:(\"Nie można wziąć kredytu\")"
   ]
  },
  {
   "cell_type": "code",
   "execution_count": 38,
   "metadata": {},
   "outputs": [
    {
     "name": "stdout",
     "output_type": "stream",
     "text": [
      "Możesz wziąć kredyt\n"
     ]
    }
   ],
   "source": [
    "#wersja 3\n",
    "if wkład_własny >= 0.2:\n",
    "    oczekiwane_dostępne_środki_raty = 1000\n",
    "else:\n",
    "    oczekiwane_dostępne_środki_raty = 2000\n",
    "\n",
    "if wkład_własny >= 0.1 and dostępne_środki_raty >= oczekiwane_dostępne_środki_raty:\n",
    "        print(\"Możesz wziąć kredyt\")\n",
    "else:\n",
    "    print(\"Nie można wziąć kredytu.\")"
   ]
  },
  {
   "cell_type": "code",
   "execution_count": 31,
   "metadata": {},
   "outputs": [
    {
     "name": "stdout",
     "output_type": "stream",
     "text": [
      "Czy jesteś obywatelem USA od urodzenia? Wpisz T/N t\n",
      "Ile masz lat? 50\n",
      "Ile lat mieszkasz w USA? 50\n",
      "Możesz kandydować\n"
     ]
    }
   ],
   "source": [
    "#Zadanie czy możesz kandydować w wyborach w USA\n",
    "\n",
    "czy_obywatel_odpowiedz = input(\"Czy jesteś obywatelem USA od urodzenia? Wpisz T/N \")\n",
    "wiek = int(input(\"Ile masz lat? \"))\n",
    "lata_rezydencji = int(input(\"Ile lat mieszkasz w USA? \"))\n",
    "\n",
    "if czy_obywatel_odpowiedz == \"T\" or czy_obywatel_odpowiedz == \"t\":\n",
    "    czy_obywatel = True\n",
    "else:\n",
    "    czy_obywatel = False\n",
    "    \n",
    "if czy_obywatel and wiek >= 35 and lata_rezydencji >= 14:\n",
    "    print(\"Możesz kandydować\")\n",
    "else:\n",
    "    print(\"Nie możesz kandydować\")"
   ]
  },
  {
   "cell_type": "code",
   "execution_count": 32,
   "metadata": {},
   "outputs": [
    {
     "name": "stdout",
     "output_type": "stream",
     "text": [
      "Jaki jest miesięczny przychód Twojej firmy? 10000\n",
      "Ilu pracowników zatrudniasz? 4\n",
      "Czy Twoja firma otrzymała już jakieś wsparcie w przeszłości? Odpowiedz T/N t\n",
      "Niestety nie otrzymasz dotacji\n"
     ]
    }
   ],
   "source": [
    "#Czy firma otrzyma dotacje\n",
    "\n",
    "przychod = float(input(\"Jaki jest miesięczny przychód Twojej firmy? \"))\n",
    "liczba_pracownikow = int(input(\"Ilu pracowników zatrudniasz? \"))\n",
    "poprzednia_dotacja = input(\"Czy Twoja firma otrzymała już jakieś wsparcie w przeszłości? Odpowiedz T/N \")\n",
    "\n",
    "if poprzednia_dotacja == \"T\" or poprzednia_dotacja == \"t\":\n",
    "    otrzymano_dotacje = True\n",
    "else:\n",
    "    otrzymano_dotacje = False\n",
    "if not otrzymano_dotacje and (przychod < 15500 or liczba_pracownikow >= 3):\n",
    "        print(\"Możesz otrzymać dotację\")\n",
    "else:\n",
    "    print(\"Niestety nie otrzymasz dotacji\")\n"
   ]
  },
  {
   "cell_type": "code",
   "execution_count": 33,
   "metadata": {},
   "outputs": [
    {
     "name": "stdout",
     "output_type": "stream",
     "text": [
      "Możesz wziąć kredyt\n"
     ]
    }
   ],
   "source": [
    "#Czy możesz wziąć kredyt (z not)\n",
    "\n",
    "przychód = 4000\n",
    "wydatki = 2000\n",
    "wiek = 30\n",
    "\n",
    "if not (wiek < 18 or przychód < wydatki):\n",
    "    print(\"Możesz wziąć kredyt\")\n",
    "else:\n",
    "    print(\"Nie możesz wziąć kredytu\")"
   ]
  },
  {
   "cell_type": "code",
   "execution_count": 39,
   "metadata": {},
   "outputs": [
    {
     "name": "stdout",
     "output_type": "stream",
     "text": [
      "Przyznano wsparcie z funsuszu pracowników.\n"
     ]
    }
   ],
   "source": [
    "#instrukcja elif\n",
    "# Główne wsparcie -> przychód poniżej 5000\n",
    "# Wsparcie z funduszu pracowników -> od 5 do 10 pracowników\n",
    "# Wsparcie dla nowych firm -> krócej niż 3 lata na rynku\n",
    "# Wsparcie na pocieszenie -> dla każdego kto nie dostał żadnego innego\n",
    "\n",
    "przychód = 5000\n",
    "liczba_pracowników = 7\n",
    "lata_działalności = 3\n",
    "\n",
    "if przychód < 5000:\n",
    "    print(\"Przyznano główne wsparcie.\")\n",
    "elif 5 <= liczba_pracowników <= 10:\n",
    "    print(\"Przyznano wsparcie z funduszu pracowników.\")\n",
    "elif lata_działalności < 3:\n",
    "    print(\"Przyznano wsparcie dla nowych firm.\")\n",
    "else:\n",
    "    print(\"Przyznano wsparcie na pocieszenie.\")"
   ]
  },
  {
   "cell_type": "code",
   "execution_count": 40,
   "metadata": {},
   "outputs": [
    {
     "name": "stdout",
     "output_type": "stream",
     "text": [
      "Kalkulator:\n",
      "1 -> wartości lokaty\n",
      "2 -> kredytowy\n",
      "Wybierz opcję: 2\n",
      "Na jaką kwotę chciałbyś wziąć kredyt hipoteczny? 80000\n",
      "Podaj oprocentowanie kredytu: 5\n",
      "Podaj kwotę wkładu własnego: 30000\n",
      "Na ile lat chcesz wziąć kredyt? (lata) 30\n",
      "Podaj przychód miesięczny 10000\n",
      "Jaka jest suma Twoich miesięcznych wydatków? 6000\n",
      "Można wziąć kredyt\n"
     ]
    }
   ],
   "source": [
    "#Połącz kalkulator wartości lokaty i kredytowy.\n",
    "#Zapytaj użytkownika czy chce obliczyć wartość lokaty czy zdolność kredytową.\n",
    "#Następnie wyznacz oczekiwaną wartość.\n",
    "#Obsłuż (na przykład odpowiednim komunikatem) sytuację, w której użytkownik wybierze nieistniejącą opcję.\n",
    "\n",
    "print(\"Kalkulator:\", \"1 -> wartości lokaty\", \"2 -> kredytowy\", sep=\"\\n\")\n",
    "opcja = input(\"Wybierz opcję: \")\n",
    "\n",
    "if opcja == \"1\":\n",
    "    print(\"Kalkulator wartości lokaty z roczną kapitalizacją\")\n",
    "    \n",
    "    poczatkowa_wartosc_input = input(\"Podaj początkową wartość lokaty: \")\n",
    "    poczatkowa_wartosc = int(poczatkowa_wartosc_input)\n",
    "\n",
    "    oprocentowanie_input = input(\"Podaj ile wynosi oprocentowanie: \")\n",
    "    oprocentowanie = int(oprocentowanie_input)\n",
    "\n",
    "    czas_input = input(\"Czas trwania lokaty w latach to: \")\n",
    "    czas = int(czas_input)\n",
    "\n",
    "    wartosc_koncowa = poczatkowa_wartosc * (1 + oprocentowanie / 100) ** czas\n",
    "\n",
    "    print(\"Po {} latach, wartość końcowa lokaty to: {:.2f} zł.\".format(czas, wartosc_koncowa))\n",
    "elif opcja == \"2\":\n",
    "    kwota_kredytu = int(input(\"Na jaką kwotę chciałbyś wziąć kredyt hipoteczny? \"))\n",
    "    oprocentowanie = float(input(\"Podaj oprocentowanie kredytu: \"))\n",
    "    wartość_wkładu_własnego = int(input(\"Podaj kwotę wkładu własnego: \"))\n",
    "    liczba_lat = int(input(\"Na ile lat chcesz wziąć kredyt? (lata) \"))\n",
    "    przychód_miesięczny = int(input(\"Podaj przychód miesięczny \"))\n",
    "    suma_miesięcznych_wydatków = int(input(\"Jaka jest suma Twoich miesięcznych wydatków? \"))\n",
    "\n",
    "    rata_kredytu = (kwota_kredytu * oprocentowanie / 100) / 12 + kwota_kredytu / (liczba_lat * 12)\n",
    "    dostępne_środki = przychód_miesięczny - suma_miesięcznych_wydatków\n",
    "    wartość_nieruchomości = wartość_wkładu_własnego + kwota_kredytu\n",
    "    \n",
    "    if wkład_własny >= 0.2 and dostępne_środki_raty >= 1000:\n",
    "        print(\"Można wziąć kredyt\")\n",
    "    elif wkład_własny >= 0.1 and dostępne_środki_raty >= 2000:\n",
    "        print(\"Można wziąć kredyt\")\n",
    "    else:\n",
    "        print:(\"Nie można wziąć kredytu\")\n",
    "else:\n",
    "    print(f\"Nie ma takiej opcji: {opcja}\")"
   ]
  },
  {
   "cell_type": "code",
   "execution_count": 41,
   "metadata": {},
   "outputs": [
    {
     "name": "stdout",
     "output_type": "stream",
     "text": [
      "Ile masz lat? 8\n",
      "Jesteś mężczyzną czy kobietą? (M/K) K\n",
      "Jaki był Twój wynik w teście 12 minut biegu (ile metrów)? 2000\n",
      "Dobrze\n"
     ]
    }
   ],
   "source": [
    "#Zaimplementuj program interpretujący wynik uzyskany w teście Coopera.\n",
    "#Zapytaj o:\n",
    "#wiek\n",
    "#płeć\n",
    "#uzyskany wynik\n",
    "#Na tej podstawie zinterpretuj rezultat.\n",
    "\n",
    "#Możesz zaimplementować tylko wybrane przedziały wiekowe.\n",
    "\n",
    "wiek = int(input(\"Ile masz lat? \"))\n",
    "płeć = input(\"Jesteś mężczyzną czy kobietą? (M/K) \")\n",
    "wynik = int(input(\"Jaki był Twój wynik w teście 12 minut biegu (ile metrów)? \"))\n",
    "\n",
    "if wiek == 8:\n",
    "    if płeć == \"M\":\n",
    "        if wynik >= 2190:\n",
    "            print(\"Bardzo dobrze\")\n",
    "        elif wynik >= 1810:\n",
    "            print(\"Dobrze\")\n",
    "        elif wynik >= 1420:\n",
    "            print(\"Średnio\")\n",
    "        elif wynik >= 1050:\n",
    "            print(\"Źle\")\n",
    "        else:\n",
    "            print(\"Bardzo źle\")\n",
    "    else:\n",
    "        if wynik >= 2010:\n",
    "            print(\"Bardzo dobrze\")\n",
    "        elif wynik >= 1670:\n",
    "            print(\"Dobrze\")\n",
    "        elif wynik >= 1320:\n",
    "            print(\"Średnio\")\n",
    "        elif wynik >= 990:\n",
    "            print(\"Źle\")\n",
    "        else:\n",
    "            print(\"Bardzo źle\")    "
   ]
  },
  {
   "cell_type": "code",
   "execution_count": 50,
   "metadata": {},
   "outputs": [
    {
     "name": "stdout",
     "output_type": "stream",
     "text": [
      "Podaj listę zakupów (rozdzielając produkty przecinkiem\tchleb\n",
      "Planujesz kupić pieczywo\n"
     ]
    }
   ],
   "source": [
    "#Zmodyfikuj zadanie, w którym pytasz użytkownika o listę zakupów i sprawdź, czy znajdują się na niej chleb albo bułki.\n",
    "\n",
    "lista = input(\"Podaj listę zakupów (rozdzielając produkty przecinkiem\\t\")\n",
    "lista_zakupów = lista.split(\",\")\n",
    "\n",
    "if \"chleb\" in lista or \"bułki\" in lista:\n",
    "    print(\"Planujesz kupić pieczywo\")\n",
    "else:\n",
    "    print(\"Pieczywo nie znajduję się na liście\")\n"
   ]
  },
  {
   "cell_type": "code",
   "execution_count": 53,
   "metadata": {},
   "outputs": [
    {
     "name": "stdout",
     "output_type": "stream",
     "text": [
      "Podaj swój numer telefonu 5\n",
      "Twój numer nie zawiera cyfry 0.\n"
     ]
    }
   ],
   "source": [
    "#Zapytaj użytkownika o numer telefonu i sprawdź czy zawiera przynajmniej jedną cyfrę 0.\n",
    "\n",
    "numer_telefonu = input(\"Podaj swój numer telefonu \")\n",
    "numer_telefonu = numer_telefonu.replace(\"-\",\"\")\n",
    "\n",
    "if \"0\" in numer_telefonu:\n",
    "    print(\"Twój numer zawiera 0\")\n",
    "else:\n",
    "    print(\"Twój numer nie zawiera cyfry 0.\")"
   ]
  },
  {
   "cell_type": "code",
   "execution_count": 56,
   "metadata": {},
   "outputs": [
    {
     "name": "stdout",
     "output_type": "stream",
     "text": [
      "To inna wartość\n"
     ]
    }
   ],
   "source": [
    "#Utwórz zmienną value oraz instrukcję warunkową, która sprawdzi czy wartość tej zmiennej jest:\n",
    "\n",
    "#True\n",
    "#False\n",
    "#None\n",
    "#inną wartością\n",
    "\n",
    "value = 3\n",
    "\n",
    "if value is True:\n",
    "    print(\"To prawda\")\n",
    "elif value is False:\n",
    "    print(\"To fałsz\")\n",
    "elif value is None:\n",
    "    print(\"To None\")\n",
    "else:\n",
    "    print(\"To inna wartość\")"
   ]
  },
  {
   "cell_type": "code",
   "execution_count": null,
   "metadata": {},
   "outputs": [],
   "source": []
  }
 ],
 "metadata": {
  "kernelspec": {
   "display_name": "Python 3",
   "language": "python",
   "name": "python3"
  },
  "language_info": {
   "codemirror_mode": {
    "name": "ipython",
    "version": 3
   },
   "file_extension": ".py",
   "mimetype": "text/x-python",
   "name": "python",
   "nbconvert_exporter": "python",
   "pygments_lexer": "ipython3",
   "version": "3.8.5"
  }
 },
 "nbformat": 4,
 "nbformat_minor": 4
}
