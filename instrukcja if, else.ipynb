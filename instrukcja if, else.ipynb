{
 "cells": [
  {
   "cell_type": "code",
   "execution_count": null,
   "metadata": {},
   "outputs": [],
   "source": [
    "#Zmodyfikuj rozwiązania zadań 1 i 2 z poprzedniej lekcji, tak aby wypisywać różne informacje \n",
    "#w zależności od wyniku porównań.\n",
    "\n",
    "rower = float(input(\"Ile kosztuję rower? \"))\n",
    "bilet_lotniczy = float(input(\"Ile kosztuje bilet lotniczy? \"))\n",
    "laptop = float(input(\"Ile kosztuję laptop? \"))\n",
    "\n",
    "if rower == laptop:\n",
    "    print(\"Rower kosztuję tyle samo co laptop\")\n",
    "else:\n",
    "    print(\"Cena rowera różni się od ceny laptopa\")\n",
    "if laptop > bilet_lotniczy:\n",
    "    print(\"Laptop jest droższy od biletu lotniczego\")\n",
    "else:\n",
    "    print(\"Laptop jest tańszy od biletu lotniczego\")\n",
    "if rower < bilet_lotniczy:\n",
    "    print(\"Rower jest tańszy od biletu lotniczego\")\n",
    "else:\n",
    "    print(\"Rower jest droższy od biletu lotniczego\")"
   ]
  },
  {
   "cell_type": "code",
   "execution_count": 9,
   "metadata": {},
   "outputs": [
    {
     "name": "stdout",
     "output_type": "stream",
     "text": [
      "Podaj listę zakupów (rozdzielając produkty przecinkiem\t500\n",
      "Lista zakupów jest krótka\n"
     ]
    }
   ],
   "source": [
    "lista = input(\"Podaj listę zakupów (rozdzielając produkty przecinkiem\\t\")\n",
    "lista_zakupów = lista.split(\",\")\n",
    "\n",
    "if len(lista_zakupów) > 4:\n",
    "    print(\"Lista zakupów jest długa\")\n",
    "else:\n",
    "    print(\"Lista zakupów jest krótka\")\n"
   ]
  },
  {
   "cell_type": "code",
   "execution_count": 12,
   "metadata": {},
   "outputs": [
    {
     "name": "stdout",
     "output_type": "stream",
     "text": [
      "Ile miesięcznie wydajesz pieniędzy na jedzenie? 1000\n",
      "Ile miesięcznie wydajesz pieniędzy na rozrywkę? 2000\n",
      "Ile miesięcznie wydajesz pieniędzy na opłaty? 500\n",
      "Ile miesięcznie wydajesz pieniędzy na inne wydatki? 500\n",
      "Na rozrywka wydajesz 50% wszystkich wydatków\n"
     ]
    }
   ],
   "source": [
    "#Zmodyfikuj rozwiązanie zadania z kalkulatorem wydatków z lekcji dotyczącej słownika (moduł 3).\n",
    "#Pobierz te same informacje na temat miesięcznych wydatków w różnych kategoriach.\n",
    "#Wypisz jednak informacje na temat procentowego udziału najbardziej znaczącej kategorii.\n",
    "\n",
    "food = float(input(\"Ile miesięcznie wydajesz pieniędzy na jedzenie? \"))\n",
    "fun = float(input(\"Ile miesięcznie wydajesz pieniędzy na rozrywkę? \"))\n",
    "bills = float(input(\"Ile miesięcznie wydajesz pieniędzy na opłaty? \"))\n",
    "other = float(input(\"Ile miesięcznie wydajesz pieniędzy na inne wydatki? \"))\n",
    "\n",
    "suma = food + fun + bills + other\n",
    "\n",
    "procentowy_udzial = {\n",
    "    \"jedzenie\": food * 100 / suma,\n",
    "    \"rozrywka\": fun * 100 / suma,\n",
    "    \"oplaty\": bills * 100 / suma,\n",
    "    \"inne\": other * 100 / suma\n",
    "}\n",
    "\n",
    "najbardziej_znaczaca_kategoria = \"jedzenie\" #ustalam sama najbardziej znaczącą kategorię, żeby porównać ją do reszty. \n",
    "\n",
    "if procentowy_udzial[\"rozrywka\"] > procentowy_udzial[najbardziej_znaczaca_kategoria]:\n",
    "        najbardziej_znaczaca_kategoria = \"rozrywka\"\n",
    "if procentowy_udzial[\"oplaty\"] > procentowy_udzial[najbardziej_znaczaca_kategoria]:\n",
    "        najbardziej_znaczaca_kategoria = \"oplaty\"\n",
    "if procentowy_udzial[\"inne\"] > procentowy_udzial[najbardziej_znaczaca_kategoria]:\n",
    "        najbardziej_znaczaca_kategoria = \"inne\"\n",
    "        \n",
    "print(f\"Na {najbardziej_znaczaca_kategoria} wydajesz {procentowy_udzial[najbardziej_znaczaca_kategoria]:.0f}% wszystkich wydatków\")"
   ]
  },
  {
   "cell_type": "code",
   "execution_count": 22,
   "metadata": {},
   "outputs": [
    {
     "name": "stdout",
     "output_type": "stream",
     "text": [
      "Jaka jest Twoja ocena końcowa z matematyki? 5\n",
      "Jaka jest Twoja ocena końcowa z historii? 5\n",
      "Jaka jest Twoja ocena końcowa z języka polskiego? 5\n",
      "Jaka jest Twoja ocena końcowa z języka angielskiego? 1\n",
      "Jaka jest Twoja ocena końcowa z biologii? 5\n",
      "Gratulację, udało Ci się zdać do następnej klasy\n"
     ]
    }
   ],
   "source": [
    "#Zapytaj użytkownika o jego oceny końcowe z kilku przedmiotów (matematyka, fizyka, itd.).\n",
    "#Następnie, przeanalizuj je i wypisz informację czy zdał/zdała do kolejnej klasy.\n",
    "#Załóż, że zdać można wtedy jeżeli nie ma się żadnej jedynki albo jeżeli ma się jedną jedynkę, ale średnia ze wszystkich ocen jest wyższa niż 3.5.\n",
    "\n",
    "ocena_matematyka = int(input(\"Jaka jest Twoja ocena końcowa z matematyki? \"))\n",
    "ocena_historia = int(input(\"Jaka jest Twoja ocena końcowa z historii? \"))\n",
    "ocena_jezyk_polski = int(input(\"Jaka jest Twoja ocena końcowa z języka polskiego? \"))\n",
    "ocena_jezyk_angielski = int(input(\"Jaka jest Twoja ocena końcowa z języka angielskiego? \"))\n",
    "ocena_biologia = int(input(\"Jaka jest Twoja ocena końcowa z biologii? \"))\n",
    "\n",
    "liczba_ocen_niedostatecznych = 0\n",
    "\n",
    "if ocena_matematyka < 2:\n",
    "    liczba_ocen_niedostatecznych = liczba_ocen_niedostatecznych + 1\n",
    "if ocena_historia < 2:\n",
    "    liczba_ocen_niedostatecznych = liczba_ocen_niedostatecznych + 1\n",
    "if ocena_jezyk_polski < 2:\n",
    "    liczba_ocen_niedostatecznych = liczba_ocen_niedostatecznych + 1\n",
    "if ocena_jezyk_angielski < 2:\n",
    "    liczba_ocen_niedostatecznych = liczba_ocen_niedostatecznych + 1\n",
    "if ocena_biologia < 2:\n",
    "    liczba_ocen_niedostatecznych = liczba_ocen_niedostatecznych + 1\n",
    "    \n",
    "if liczba_ocen_niedostatecznych == 0:\n",
    "    print(\"Gratuluję, zdałeś/zdałaś do następnej klasy\")\n",
    "else:\n",
    "    if liczba_ocen_niedostatecznych == 1:\n",
    "        average = (ocena_matematyka + ocena_historia + ocena_jezyk_polski + ocena_jezyk_angielski + ocena_biologia)/5\n",
    "        if average > 3.5:\n",
    "            print(\"Gratulację, udało Ci się zdać do następnej klasy\")\n",
    "        else:\n",
    "            print(\"Niestety, nie udało Ci się zdać do następnej klasy\")\n",
    "    else:\n",
    "        print(\"Niestety, nie udało Ci się zdać do następnej klasy\")\n"
   ]
  },
  {
   "cell_type": "code",
   "execution_count": 25,
   "metadata": {},
   "outputs": [
    {
     "name": "stdout",
     "output_type": "stream",
     "text": [
      "Jak masz na imię? Karolina\n",
      "Jesteś kobietą\n"
     ]
    }
   ],
   "source": [
    "5#Zapytaj o imię i \"rozpoznaj\" czy użytkownik to kobieta czy mężczyzna.\n",
    "#Podpowiedź: Na potrzeby tego zadania możemy założyć, że żeńskie imiona kończą się na \"a\".\n",
    "\n",
    "imie = input(\"Jak masz na imię? \")\n",
    "\n",
    "if imie[-1] == \"a\":\n",
    "    print(\"Jesteś kobietą\")\n",
    "else:\n",
    "    print(\"Jesteś mężczyzną\")"
   ]
  },
  {
   "cell_type": "code",
   "execution_count": null,
   "metadata": {},
   "outputs": [],
   "source": []
  },
  {
   "cell_type": "code",
   "execution_count": null,
   "metadata": {},
   "outputs": [],
   "source": []
  }
 ],
 "metadata": {
  "kernelspec": {
   "display_name": "Python 3",
   "language": "python",
   "name": "python3"
  },
  "language_info": {
   "codemirror_mode": {
    "name": "ipython",
    "version": 3
   },
   "file_extension": ".py",
   "mimetype": "text/x-python",
   "name": "python",
   "nbconvert_exporter": "python",
   "pygments_lexer": "ipython3",
   "version": "3.8.5"
  }
 },
 "nbformat": 4,
 "nbformat_minor": 4
}
