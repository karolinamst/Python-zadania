{
 "cells": [
  {
   "cell_type": "code",
   "execution_count": 1,
   "metadata": {},
   "outputs": [
    {
     "name": "stdout",
     "output_type": "stream",
     "text": [
      "pływanie\n",
      "yoga\n",
      "jazda konna\n",
      "skoki do wody\n"
     ]
    }
   ],
   "source": [
    "#Wypisywanie listy ulubionych sportów\n",
    "favourite_sports = [\"pływanie\", \"yoga\", \"jazda konna\", \"skoki do wody\"]\n",
    "sport_index = 0\n",
    "while sport_index < len(favourite_sports):\n",
    "    print(favourite_sports[sport_index])\n",
    "    sport_index += 1"
   ]
  },
  {
   "cell_type": "code",
   "execution_count": 2,
   "metadata": {},
   "outputs": [
    {
     "name": "stdout",
     "output_type": "stream",
     "text": [
      "pływanie\n",
      "jazda konna\n"
     ]
    }
   ],
   "source": [
    "favourite_sports = [\"pływanie\", \"yoga\", \"jazda konna\", \"skoki do wody\"]\n",
    "sport_index = 0\n",
    "while sport_index < len(favourite_sports):\n",
    "    if sport_index % 2 == 0:\n",
    "        print(favourite_sports[sport_index])\n",
    "    sport_index += 1"
   ]
  },
  {
   "cell_type": "code",
   "execution_count": null,
   "metadata": {},
   "outputs": [],
   "source": [
    "#Sumowanie liczb\n",
    "numbers = [1, 3, 510, 123, 24]\n",
    "numbers_sum = 0\n",
    "number_index = 0\n",
    "while number_index < len(numbers):\n",
    "    number_sum += numbers[number_index]\n",
    "    number_index += 1\n",
    "print(f\"Suma: {numbers_sum}\")"
   ]
  },
  {
   "cell_type": "code",
   "execution_count": 3,
   "metadata": {},
   "outputs": [
    {
     "name": "stdout",
     "output_type": "stream",
     "text": [
      "Jaki jest Twój kod pocztowy? 45642\n",
      "[0] -> 4\n",
      "[1] -> 5\n",
      "[2] -> 6\n",
      "[3] -> 4\n",
      "[4] -> 2\n"
     ]
    }
   ],
   "source": [
    "#Wypisujemy kod pocztowy - znak po znaku\n",
    "post_code = input(\"Jaki jest Twój kod pocztowy? \")\n",
    "letter_index = 0\n",
    "while letter_index < len(post_code):\n",
    "    print(f\"[{letter_index}] -> {post_code[letter_index]}\")\n",
    "    letter_index += 1"
   ]
  },
  {
   "cell_type": "code",
   "execution_count": null,
   "metadata": {},
   "outputs": [],
   "source": [
    "# Zamieniamy kod pocztowy by zawsze był zgodny z formatem XX-XX-XX-XX\n",
    "post_code = input(\"Jaki jest Twój kod pocztowy? \")\n",
    "post_code = post_code.replace(\"-\", \"\")\n",
    "formatted_post_code = \"\"\n",
    "letter_index = 0\n",
    "while letter_index < len(post_code):\n",
    "    if letter_index % 2 == 0 and letter_index != 0:\n",
    "        formatted_post_code += \"-\"\n",
    "    formatted_post_code += post_code[letter_index]\n",
    "    letter_index += 1\n",
    "print(formatted_post_code)"
   ]
  },
  {
   "cell_type": "code",
   "execution_count": 18,
   "metadata": {},
   "outputs": [
    {
     "name": "stdout",
     "output_type": "stream",
     "text": [
      "Podaj liczbę parzystą ( masz 10 prób): 5\n",
      "Spróbuj jeszcze raz. Podaj liczbę parzystą: 2\n"
     ]
    }
   ],
   "source": [
    "#Pytaj użytkownika o liczbę tak długo aż poda liczbę parzystą lub przekroczy limit 10 prób.\n",
    "liczba = int(input(\"Podaj liczbę parzystą ( masz 10 prób): \"))\n",
    "liczba_prob = 1\n",
    "while liczba_prob < 10 and liczba % 2 != 0:\n",
    "    liczba = int(input(\"Spróbuj jeszcze raz. Podaj liczbę parzystą: \"))\n",
    "    liczba_prob += 1"
   ]
  },
  {
   "cell_type": "code",
   "execution_count": 19,
   "metadata": {},
   "outputs": [
    {
     "name": "stdout",
     "output_type": "stream",
     "text": [
      "Podaj numer telefonu: 589685858\n",
      " Twój numer telefonu to: 589-685-858\n"
     ]
    }
   ],
   "source": [
    "#Wczytaj numer telefonu użytkownika i rozdziel go myślnikami (format XXX-XXX-XXX).\n",
    "\n",
    "numer = input(\"Podaj numer telefonu: \")\n",
    "numer = numer.replace(\"-\", \"\")\n",
    "sformatowany_numer = \"\"\n",
    "indeks = 0\n",
    "while indeks < len(numer):\n",
    "    if indeks % 3 == 0 and indeks != 0:\n",
    "        sformatowany_numer += \"-\"\n",
    "    sformatowany_numer += numer[indeks]\n",
    "    indeks += 1\n",
    "print(f\" Twój numer telefonu to: {sformatowany_numer}\")"
   ]
  },
  {
   "cell_type": "code",
   "execution_count": null,
   "metadata": {},
   "outputs": [],
   "source": [
    "#Poproś użytkownika o podanie ulubionych dań, rozdzielając każde z nich przecinkiem.\n",
    "#Następnie wypisz każde z nich wraz z informacją, które miejsce zajmuje na jej/jego liście.\n",
    "\n",
    "dania = input(\"Podaj swoje ulubione dania, rodzielając je przecinkiem: \")\n",
    "ulubione_dania = dania.split(\",\")\n",
    "\n",
    "dania_indeks = 0\n",
    "while dania_indeks < len(ulubione_dania):\n",
    "    print(f\"Ulubione danie numer {dania_indeks}: {ulubione_dania[dania_indeks]}\")\n",
    "    dania_indeks += 1"
   ]
  }
 ],
 "metadata": {
  "kernelspec": {
   "display_name": "Python 3",
   "language": "python",
   "name": "python3"
  },
  "language_info": {
   "codemirror_mode": {
    "name": "ipython",
    "version": 3
   },
   "file_extension": ".py",
   "mimetype": "text/x-python",
   "name": "python",
   "nbconvert_exporter": "python",
   "pygments_lexer": "ipython3",
   "version": "3.8.5"
  }
 },
 "nbformat": 4,
 "nbformat_minor": 4
}
