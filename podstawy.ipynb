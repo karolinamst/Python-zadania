{
 "cells": [
  {
   "cell_type": "code",
   "execution_count": null,
   "metadata": {},
   "outputs": [],
   "source": [
    "#W ciągu 3 godzin biegu biegacz pokonał 38 kilometrów. Wyznacz średnią prędkość korzystając ze zmiennych."
   ]
  },
  {
   "cell_type": "code",
   "execution_count": 5,
   "metadata": {},
   "outputs": [
    {
     "name": "stdout",
     "output_type": "stream",
     "text": [
      "12.7\n",
      "Biegacz biegał średnio 12.7 km/h.\n"
     ]
    }
   ],
   "source": [
    "t = 3\n",
    "s = 38\n",
    "\n",
    "v = s / t\n",
    "print(round(v,1))\n",
    "\n",
    "print(f\"Biegacz biegał średnio {v:.1f} km/h.\")"
   ]
  },
  {
   "cell_type": "code",
   "execution_count": 39,
   "metadata": {},
   "outputs": [
    {
     "name": "stdout",
     "output_type": "stream",
     "text": [
      "Ile kilometrów przebiegłaś/przebiegłeś? 5\n",
      "Ile zajęło Ci to czasu(godzin)? 1\n",
      "Biegasz z prędkością średnią: 5.0 km/h!\n"
     ]
    }
   ],
   "source": [
    "s_input = input(\"Ile kilometrów przebiegłaś/przebiegłeś? \")\n",
    "t_input = input(\"Ile zajęło Ci to czasu(godzin)? \")\n",
    "\n",
    "dystans = int(s_input)\n",
    "czas = int(t_input)\n",
    "predkosc = dystans / czas\n",
    "\n",
    "print(f\"Biegasz z prędkością średnią: {predkosc} km/h!\")"
   ]
  },
  {
   "cell_type": "code",
   "execution_count": 9,
   "metadata": {},
   "outputs": [
    {
     "data": {
      "text/plain": [
       "1216.6529024000001"
      ]
     },
     "execution_count": 9,
     "metadata": {},
     "output_type": "execute_result"
    }
   ],
   "source": [
    "#Zakładając, że na lokatę wpłacono 1000 zł, a oprocentowanie wynosi 4% w skali roku, \n",
    "#oblicz jaka będzie wartość lokaty po 5 latach.\n",
    "#Dostosuj program liczący wartość lokaty, tak aby wyświetlał ją z dokładnością do groszy (dwóch cyfr po przecinku).\n",
    "\n",
    "lokata = 1000\n",
    "oprocentowanie = 4\n",
    "lata = 5\n",
    "\n",
    "wartosc_lokaty = lokata * (1 + oprocentowanie / 100) ** lata\n",
    "\n",
    "wartosc_lokaty"
   ]
  },
  {
   "cell_type": "code",
   "execution_count": 10,
   "metadata": {},
   "outputs": [
    {
     "name": "stdout",
     "output_type": "stream",
     "text": [
      "Wartość lokaty po 5 latach będzie wynosić: 1216.65 zł.\n",
      "Wartość lokaty po 5 latach będzie wynosić: 1216.65 zł.\n"
     ]
    }
   ],
   "source": [
    "print(\"Wartość lokaty po 5 latach będzie wynosić: {:.2f} zł.\".format(czas_lokaty))\n",
    "print(f\"Wartość lokaty po {lata} latach będzie wynosić: {wartosc_lokaty:.2f} zł.\")"
   ]
  },
  {
   "cell_type": "code",
   "execution_count": 38,
   "metadata": {},
   "outputs": [
    {
     "name": "stdout",
     "output_type": "stream",
     "text": [
      "Moje ulubione sporty to:\n",
      "\t pływanie\n",
      "\t jazda konno\n",
      "\t joga\n"
     ]
    }
   ],
   "source": [
    "print(\"Moje ulubione sporty to:\", \"pływanie\", \"jazda konno\", \"joga\", sep=\"\\n\\t \")"
   ]
  },
  {
   "cell_type": "code",
   "execution_count": 48,
   "metadata": {},
   "outputs": [
    {
     "name": "stdout",
     "output_type": "stream",
     "text": [
      "Podaj mi ile masz lat, a powiem Ci ile to miesięcy. 29\n",
      "348\n",
      "Masz 29 lat, czyli 348 miesięcy!\n"
     ]
    }
   ],
   "source": [
    "#Zapytaj użytkownika ile ma lat i wypisz ile to miesięcy.\n",
    "\n",
    "lata = input(\"Podaj mi ile masz lat, a powiem Ci ile to miesięcy. \")\n",
    "lata_int = int(lata)\n",
    "miesiace = lata_int * 12\n",
    "print(miesiace)\n",
    "\n",
    "print(\"Masz {} lat, czyli {} miesięcy!\".format(lata_int, miesiace))"
   ]
  },
  {
   "cell_type": "code",
   "execution_count": 52,
   "metadata": {},
   "outputs": [
    {
     "name": "stdout",
     "output_type": "stream",
     "text": [
      "Ile kilometrów przeszedłeś/przeszłaś w tym tygodniu? 59\n",
      "W takim tempie okrążenie ziemi zajmie Ci około 97 tygodni!\n"
     ]
    }
   ],
   "source": [
    "#Zapytaj ile kilometrów przeszedł w tym tygodniu i policz ile tygodni zajmie mu okrążenie Ziemi.\n",
    "#Pamiętaj, że obwód Ziemi to 40 075 km.\n",
    "\n",
    "droga_input = input(\"Ile kilometrów przeszedłeś/przeszłaś w tym tygodniu? \")\n",
    "droga = int(droga_input)\n",
    "obwod_ziemi = 40075\n",
    "\n",
    "dni = obwod_ziemi / droga\n",
    "tygodnie = int(dni // 7)\n",
    "\n",
    "print(f\"W takim tempie okrążenie ziemi zajmie Ci około {tygodnie} tygodni!\")\n"
   ]
  },
  {
   "cell_type": "code",
   "execution_count": 55,
   "metadata": {},
   "outputs": [
    {
     "name": "stdout",
     "output_type": "stream",
     "text": [
      "Wyliczę Ci końcową wartość lokaty.\n",
      "Podaj początkową wartość lokaty: 5000\n",
      "Podaj ile wynosi oprocentowanie: 4\n",
      "Czas trwania lokaty w latach to: 4\n",
      "Po 4 latach, wartość końcowa lokaty to: 5849.29 zł.\n"
     ]
    }
   ],
   "source": [
    "#Zastosuj wzór do obliczenia wartości lokaty, pobierając od użytkownika następujące dane:\n",
    "\n",
    "#początkowa wartość\n",
    "#oprocentowanie\n",
    "#czas trwania w latach\n",
    " \n",
    "#Wzór to: wartość = wartość pocz. * (1 + procent / 100) ^ liczba lat\n",
    "\n",
    "print(\"Wyliczę Ci końcową wartość lokaty.\")\n",
    "poczatkowa_wartosc_input = input(\"Podaj początkową wartość lokaty: \")\n",
    "poczatkowa_wartosc = int(poczatkowa_wartosc_input)\n",
    "\n",
    "oprocentowanie_input = input(\"Podaj ile wynosi oprocentowanie: \")\n",
    "oprocentowanie = int(oprocentowanie_input)\n",
    "\n",
    "czas_input = input(\"Czas trwania lokaty w latach to: \")\n",
    "czas = int(czas_input)\n",
    "\n",
    "wartosc_koncowa = poczatkowa_wartosc * (1 + oprocentowanie / 100) ** czas\n",
    "\n",
    "print(\"Po {} latach, wartość końcowa lokaty to: {:.2f} zł.\".format(czas, wartosc_koncowa))"
   ]
  },
  {
   "cell_type": "code",
   "execution_count": null,
   "metadata": {},
   "outputs": [],
   "source": []
  }
 ],
 "metadata": {
  "kernelspec": {
   "display_name": "Python 3",
   "language": "python",
   "name": "python3"
  },
  "language_info": {
   "codemirror_mode": {
    "name": "ipython",
    "version": 3
   },
   "file_extension": ".py",
   "mimetype": "text/x-python",
   "name": "python",
   "nbconvert_exporter": "python",
   "pygments_lexer": "ipython3",
   "version": "3.8.5"
  }
 },
 "nbformat": 4,
 "nbformat_minor": 4
}
