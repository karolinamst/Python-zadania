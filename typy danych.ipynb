{
 "cells": [
  {
   "cell_type": "code",
   "execution_count": 7,
   "metadata": {},
   "outputs": [
    {
     "name": "stdout",
     "output_type": "stream",
     "text": [
      "Jaka jest cena za kilogram jabłek w Biedronce? 2.50\n",
      "Jaka jest cena za kilogram jabłek w Lidlu? 3\n",
      "Jaka jest cena za kilogram jabłek w żabce? 5\n",
      "Najtańsze jabłka kosztują 2.5 zł/kg.\n"
     ]
    }
   ],
   "source": [
    "#Napisz program, który zapyta użytkownika jaka jest cena jabłek w Biedronce, Lidlu i Żabce.\n",
    "#Następnie wypisz informację: Ile kosztują najtańsze jabłka?\n",
    "\n",
    "biedronka = float(input(\"Jaka jest cena za kilogram jabłek w Biedronce? \"))\n",
    "\n",
    "lidl = float(input(\"Jaka jest cena za kilogram jabłek w Lidlu? \"))\n",
    "\n",
    "zabka = float(input(\"Jaka jest cena za kilogram jabłek w żabce? \"))\n",
    "\n",
    "najtansze_jablka = min(zabka, lidl, biedronka)\n",
    "\n",
    "print(\"Najtańsze jabłka kosztują {} zł/kg.\".format(najtansze_jablka))"
   ]
  },
  {
   "cell_type": "code",
   "execution_count": 35,
   "metadata": {},
   "outputs": [
    {
     "name": "stdout",
     "output_type": "stream",
     "text": [
      "Jak masz na imie? karolina\n",
      "8\n"
     ]
    }
   ],
   "source": [
    "#Zapytaj użytkownika o imię i wypisz ile liter zawiera.\n",
    "\n",
    "imie = len(input(\"Jak masz na imie? \"))\n",
    "print(imie)"
   ]
  },
  {
   "cell_type": "code",
   "execution_count": 36,
   "metadata": {},
   "outputs": [
    {
     "name": "stdout",
     "output_type": "stream",
     "text": [
      "Jak masz na imie? karolina\n",
      "Twoje imię to: karolina, zawiera 8 liter\n"
     ]
    }
   ],
   "source": [
    "twoje_imie = input(\"Jak masz na imie? \")\n",
    "print(f\"Twoje imię to: {twoje_imie}, zawiera {len(twoje_imie)} liter\")"
   ]
  },
  {
   "cell_type": "code",
   "execution_count": 34,
   "metadata": {},
   "outputs": [
    {
     "name": "stdout",
     "output_type": "stream",
     "text": [
      "Hej! W jakim mieście mieszkasz?\n",
      "Mieszkam w ...gdańsku\n",
      "Jak miło, że mieszkasz w Gdańsku.\n",
      "Jak miło, że mieszkasz w Gdańsku.\n"
     ]
    }
   ],
   "source": [
    "#Zapytaj użytkownika gdzie mieszka i wypisz odpowiedź, np. \"Jak miło, że mieszkasz w Gdańsku\".\n",
    "#W razie nieuwagi użytkownika popraw wprowadzoną nazwę miasta, tak by zaczynała się z wielkiej litery.\n",
    "\n",
    "print(\"Hej! W jakim mieście mieszkasz?\")\n",
    "miasto = input(\"Mieszkam w ...\")\n",
    "miasto = miasto.title()\n",
    "print(f\"Jak miło, że mieszkasz w {miasto}.\")\n",
    "print(\"Jak miło, że mieszkasz w {}.\".format(miasto))"
   ]
  },
  {
   "cell_type": "code",
   "execution_count": 45,
   "metadata": {},
   "outputs": [
    {
     "name": "stdout",
     "output_type": "stream",
     "text": [
      "Ford: AB100100\n",
      "Audi: EEE123123\n",
      "Citroen: ZK300300\n",
      "Honda: AB210210\n"
     ]
    }
   ],
   "source": [
    "#Wyobraź sobie, że przetwarzasz dane dotyczące samochodów.\n",
    "\n",
    "#Numery tablic rejestracyjnych zostały jednak zapisane w niespójny sposób:\n",
    "\n",
    "ford = \"ab100100\"\n",
    "audi = \"EEE 123123\"\n",
    "citroen = \"Zk-300300\"\n",
    "honda = \"AB210210\"\n",
    " \n",
    "\n",
    "#Stwórz zmienne jak powyżej i zmodyfikuj ich wartość, tak aby wszystkie były w formacie takim jak Honda, \n",
    "#czyli wielkie litery i bez przerw w ciągu cyfr.\n",
    "#Wypisz wszystkie wyniki.\n",
    "\n",
    "ford = ford.upper()\n",
    "audi = audi.replace(\" \",\"\")\n",
    "citroen = citroen.upper().replace(\"-\",\"\")\n",
    "\n",
    "print(f\"Ford: {ford}\")\n",
    "print(f\"Audi: {audi}\")\n",
    "print(f\"Citroen: {citroen}\")\n",
    "print(f\"Honda: {honda}\")"
   ]
  },
  {
   "cell_type": "code",
   "execution_count": 57,
   "metadata": {},
   "outputs": [
    {
     "name": "stdout",
     "output_type": "stream",
     "text": [
      "Moim ulubionym sportem jest pływanie.\n",
      "Ostatnią dyscypliną sportową na mojej liście jest jazda konna.\n"
     ]
    }
   ],
   "source": [
    "#Stwórz zmienną favourite_sports, która będzie listą zawierającą nazwy dyscyplin sportu, które lubisz.\n",
    "\n",
    "#Następnie wypisz informacje, jaki sport jest pierwszy na Twojej liście, a jaki ostatni.\n",
    "\n",
    "#Podmień jeden ze sportów na inny i wypisz całą listę.\n",
    "\n",
    "favourite_sports = ['pływanie', 'yoga', 'jazda konna']\n",
    "\n",
    "print(f\"Moim ulubionym sportem jest {favourite_sports[0]}.\")\n",
    "print(f\"Ostatnią dyscypliną sportową na mojej liście jest {favourite_sports[-1]}.\")"
   ]
  },
  {
   "cell_type": "code",
   "execution_count": 55,
   "metadata": {},
   "outputs": [
    {
     "name": "stdout",
     "output_type": "stream",
     "text": [
      "['pływanie', 'yoga', 'piłka nożna']\n"
     ]
    }
   ],
   "source": [
    "favourite_sports[-1] = \"piłka nożna\"\n",
    "\n",
    "print(favourite_sports)"
   ]
  },
  {
   "cell_type": "code",
   "execution_count": 60,
   "metadata": {},
   "outputs": [
    {
     "name": "stdout",
     "output_type": "stream",
     "text": [
      "Podaj proszę swoje ulubione danie: pizza\n",
      "Podaj proszę swoje ulubione danie nr 2: pasta\n",
      "Podaj proszę swoje ulubione danie nr 3: schrimps\n",
      "['pizza', 'pasta', 'schrimps']\n"
     ]
    }
   ],
   "source": [
    "#Zapytaj użytkownika o 3 ulubione potrawy i zapisz je w postaci listy.\n",
    "\n",
    "potrawy =[]\n",
    "\n",
    "danie = input(\"Podaj proszę swoje ulubione danie: \")\n",
    "potrawy.append(danie)\n",
    "danie = input(\"Podaj proszę swoje ulubione danie nr 2: \")\n",
    "potrawy.append(danie)\n",
    "danie = input(\"Podaj proszę swoje ulubione danie nr 3: \")\n",
    "potrawy.append(danie)\n",
    "\n",
    "print(potrawy)\n"
   ]
  },
  {
   "cell_type": "code",
   "execution_count": 69,
   "metadata": {},
   "outputs": [
    {
     "name": "stdout",
     "output_type": "stream",
     "text": [
      "Wymień swoje 3 ulubione dania (po przecinku): pizza,pasta,shrimps\n",
      "['pizza', 'pasta', 'shrimps']\n"
     ]
    }
   ],
   "source": [
    "#wykorzystując funkcję split()\n",
    "dania = input(\"Wymień swoje 3 ulubione dania (po przecinku): \")\n",
    "ulubione = dania.split(\",\")\n",
    "print(ulubione)"
   ]
  },
  {
   "cell_type": "code",
   "execution_count": 71,
   "metadata": {},
   "outputs": [
    {
     "name": "stdout",
     "output_type": "stream",
     "text": [
      "Podaj numer telefonu: 53987456123\n",
      "Twój numer telefonu to: 53987------.\n"
     ]
    }
   ],
   "source": [
    "#Zapytaj użytkownika o numer telefonu i wypisz go w postaci zanonimizowanej.\n",
    "#Wypisz pierwszych 5 cyfr, a kolejne zastąp myślnikiem.\n",
    "\n",
    "numer = input(\"Podaj numer telefonu: \")\n",
    "numer = numer.replace(\"-\",\"\")\n",
    "cyfry_publiczne = numer[:5] \n",
    "liczba_cyfr_prywatnych = len(numer) - 5\n",
    "cyfry_prywatne = \"-\" * liczba_cyfr_prywatnych\n",
    "\n",
    "print(f\"Twój numer telefonu to: {cyfry_publiczne}{cyfry_prywatne}.\")"
   ]
  },
  {
   "cell_type": "code",
   "execution_count": null,
   "metadata": {},
   "outputs": [],
   "source": [
    "#Zapytaj użytkownika ile miesięcznie wydaje pieniędzy na:\n",
    "\n",
    "#jedzenie\n",
    "#rozrywkę\n",
    "#opłaty\n",
    "#inne\n",
    "#Oblicz udział procentowy każdej kategorii w łącznych wydatkach.\n",
    "\n",
    "#Następnie poproś użytkownika o wybór kategorii i wypisz jaki jest jej udział procentowy."
   ]
  },
  {
   "cell_type": "code",
   "execution_count": 6,
   "metadata": {},
   "outputs": [
    {
     "name": "stdout",
     "output_type": "stream",
     "text": [
      "Ile miesięcznie wydajesz pieniędzy na jedzenie? 50\n",
      "Ile miesięcznie wydajesz pieniędzy na rozrywkę? 25\n",
      "Ile miesięcznie wydajesz pieniędzy na opłaty? 52\n",
      "Ile miesięcznie wydajesz pieniędzy na inne wydatki? 69\n",
      "wybierz kategorie: jedzenie, rozrywka, oplaty lub inne: jedzenie\n",
      "Na jedzenie wydajesz 26% wszystkich wydatków\n"
     ]
    }
   ],
   "source": [
    "food = float(input(\"Ile miesięcznie wydajesz pieniędzy na jedzenie? \"))\n",
    "fun = float(input(\"Ile miesięcznie wydajesz pieniędzy na rozrywkę? \"))\n",
    "bills = float(input(\"Ile miesięcznie wydajesz pieniędzy na opłaty? \"))\n",
    "other = float(input(\"Ile miesięcznie wydajesz pieniędzy na inne wydatki? \"))\n",
    "\n",
    "suma = food + fun + bills + other\n",
    "\n",
    "procentowy_udzial = {\n",
    "    \"jedzenie\": food * 100 / suma,\n",
    "    \"rozrywka\": fun * 100 / suma,\n",
    "    \"oplaty\": bills * 100 / suma,\n",
    "    \"inne\": other * 100 / suma\n",
    "}\n",
    "\n",
    "wybrana_kategoria = input(\"wybierz kategorie: jedzenie, rozrywka, oplaty lub inne: \")\n",
    "\n",
    "print(f\"Na {wybrana_kategoria} wydajesz {procentowy_udzial[wybrana_kategoria]:.0f}% wszystkich wydatków\")"
   ]
  },
  {
   "cell_type": "code",
   "execution_count": null,
   "metadata": {},
   "outputs": [],
   "source": []
  },
  {
   "cell_type": "code",
   "execution_count": null,
   "metadata": {},
   "outputs": [],
   "source": []
  }
 ],
 "metadata": {
  "kernelspec": {
   "display_name": "Python 3",
   "language": "python",
   "name": "python3"
  },
  "language_info": {
   "codemirror_mode": {
    "name": "ipython",
    "version": 3
   },
   "file_extension": ".py",
   "mimetype": "text/x-python",
   "name": "python",
   "nbconvert_exporter": "python",
   "pygments_lexer": "ipython3",
   "version": "3.8.5"
  }
 },
 "nbformat": 4,
 "nbformat_minor": 4
}
